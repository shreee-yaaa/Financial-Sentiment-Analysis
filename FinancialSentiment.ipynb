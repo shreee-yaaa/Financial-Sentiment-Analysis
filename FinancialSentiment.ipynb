{
 "cells": [
  {
   "cell_type": "code",
   "execution_count": 23,
   "id": "a3cc8e05-862e-4e7f-9018-4b96572b31b4",
   "metadata": {},
   "outputs": [
    {
     "data": {
      "text/html": [
       "<div>\n",
       "<style scoped>\n",
       "    .dataframe tbody tr th:only-of-type {\n",
       "        vertical-align: middle;\n",
       "    }\n",
       "\n",
       "    .dataframe tbody tr th {\n",
       "        vertical-align: top;\n",
       "    }\n",
       "\n",
       "    .dataframe thead th {\n",
       "        text-align: right;\n",
       "    }\n",
       "</style>\n",
       "<table border=\"1\" class=\"dataframe\">\n",
       "  <thead>\n",
       "    <tr style=\"text-align: right;\">\n",
       "      <th></th>\n",
       "      <th>Sentence</th>\n",
       "      <th>Sentiment</th>\n",
       "    </tr>\n",
       "  </thead>\n",
       "  <tbody>\n",
       "    <tr>\n",
       "      <th>0</th>\n",
       "      <td>the geosolutions technology will leverage bene...</td>\n",
       "      <td>positive</td>\n",
       "    </tr>\n",
       "    <tr>\n",
       "      <th>1</th>\n",
       "      <td>$esi on lows, down $1.50 to $2.50 bk a real po...</td>\n",
       "      <td>negative</td>\n",
       "    </tr>\n",
       "    <tr>\n",
       "      <th>2</th>\n",
       "      <td>for the last quarter of 2010 , componenta 's n...</td>\n",
       "      <td>positive</td>\n",
       "    </tr>\n",
       "  </tbody>\n",
       "</table>\n",
       "</div>"
      ],
      "text/plain": [
       "                                            Sentence Sentiment\n",
       "0  the geosolutions technology will leverage bene...  positive\n",
       "1  $esi on lows, down $1.50 to $2.50 bk a real po...  negative\n",
       "2  for the last quarter of 2010 , componenta 's n...  positive"
      ]
     },
     "execution_count": 23,
     "metadata": {},
     "output_type": "execute_result"
    }
   ],
   "source": [
    "import pandas as pd \n",
    "df=pd.read_csv(r\"C:\\Users\\shrey\\Downloads\\financial_data.xls\")\n",
    "df.head()\n",
    "df.drop_duplicates(inplace=True)\n",
    "df['Sentence'] = df['Sentence'].str.lower()\n",
    "df.head(3)"
   ]
  },
  {
   "cell_type": "code",
   "execution_count": 43,
   "id": "6bfb75dd-3c99-48e0-9e05-6383357337a1",
   "metadata": {},
   "outputs": [],
   "source": [
    "import numpy as np\n",
    "import pandas as pd\n",
    "from sklearn.model_selection import train_test_split\n",
    "from sklearn.preprocessing import LabelEncoder\n",
    "import tensorflow\n",
    "from tensorflow import keras\n",
    "from tensorflow.keras.preprocessing.sequence import pad_sequences\n",
    "from tensorflow.keras.models import Sequential\n",
    "from tensorflow.keras.layers import Embedding, LSTM, Dense, Dropout,SpatialDropout1D"
   ]
  },
  {
   "cell_type": "code",
   "execution_count": 45,
   "id": "13bb96cf-726a-43f8-9259-5fb3ced6e899",
   "metadata": {},
   "outputs": [],
   "source": [
    "from sklearn.preprocessing import LabelEncoder\n",
    "le = LabelEncoder()\n",
    "df[\"Sentiment\"] = le.fit_transform(df[\"Sentiment\"])"
   ]
  },
  {
   "cell_type": "code",
   "execution_count": 46,
   "id": "b0b3da74-ed98-48ff-95be-ef34f4eb2e17",
   "metadata": {},
   "outputs": [],
   "source": [
    "from tensorflow.keras.preprocessing.text import Tokenizer\n",
    "tokenizer = Tokenizer(num_words=5000, lower=True, oov_token='shreya')\n",
    "tokenizer.fit_on_texts(df['Sentence'].values)"
   ]
  },
  {
   "cell_type": "code",
   "execution_count": 47,
   "id": "bb88e0d5-1dff-4851-b8af-8ea8ca8f526f",
   "metadata": {},
   "outputs": [
    {
     "name": "stdout",
     "output_type": "stream",
     "text": [
      "11544\n"
     ]
    }
   ],
   "source": [
    "max_words = len(tokenizer.word_index)\n",
    "\n",
    "print(max_words)"
   ]
  },
  {
   "cell_type": "code",
   "execution_count": 48,
   "id": "775c52db-d603-497a-a38c-1d88ed35222f",
   "metadata": {},
   "outputs": [
    {
     "data": {
      "text/plain": [
       "81"
      ]
     },
     "execution_count": 48,
     "metadata": {},
     "output_type": "execute_result"
    }
   ],
   "source": [
    "max_len = max([len(x.split()) for x in df[\"Sentence\"]])\n",
    "max_len"
   ]
  },
  {
   "cell_type": "code",
   "execution_count": 49,
   "id": "8d462440-14fe-4413-bd33-b48477dd5b8b",
   "metadata": {},
   "outputs": [],
   "source": [
    "seq =tokenizer.texts_to_sequences(df[\"Sentence\"])"
   ]
  },
  {
   "cell_type": "code",
   "execution_count": 50,
   "id": "0b62d8a0-169f-49bd-af42-2ec9c7309af1",
   "metadata": {},
   "outputs": [
    {
     "data": {
      "text/plain": [
       "array([[   0,    0,    0, ..., 3965,  580,  474],\n",
       "       [   0,    0,    0, ...,    7,  216, 3967],\n",
       "       [   0,    0,    0, ...,   68,    3, 3128],\n",
       "       ...,\n",
       "       [   0,    0,    0, ...,  388,   94, 1242],\n",
       "       [   0,    0,    0, ..., 3208,   40,   16],\n",
       "       [   0,    0,    0, ...,    6,    1,  253]], dtype=int32)"
      ]
     },
     "execution_count": 50,
     "metadata": {},
     "output_type": "execute_result"
    }
   ],
   "source": [
    "pad_sequences(tokenizer.texts_to_sequences(df[\"Sentence\"]),maxlen=max_len)"
   ]
  },
  {
   "cell_type": "code",
   "execution_count": 51,
   "id": "8eb36b52-5271-4679-a342-6af6c21bc4dc",
   "metadata": {},
   "outputs": [],
   "source": [
    "x = pad_sequences(tokenizer.texts_to_sequences(df[\"Sentence\"]),maxlen=max_len)\n",
    "y = df[\"Sentiment\"]"
   ]
  },
  {
   "cell_type": "code",
   "execution_count": 52,
   "id": "b43d5e7c-3761-401f-b9df-6d5e5d1167ac",
   "metadata": {},
   "outputs": [],
   "source": [
    "from tensorflow.keras.utils import to_categorical\n",
    "y = to_categorical(y,num_classes = 82)"
   ]
  },
  {
   "cell_type": "code",
   "execution_count": 53,
   "id": "6e1a8135-17d5-4e93-9623-e15db1591094",
   "metadata": {},
   "outputs": [
    {
     "name": "stdout",
     "output_type": "stream",
     "text": [
      "[0. 0. 1. 0. 0. 0. 0. 0. 0. 0. 0. 0. 0. 0. 0. 0. 0. 0. 0. 0. 0. 0. 0. 0.\n",
      " 0. 0. 0. 0. 0. 0. 0. 0. 0. 0. 0. 0. 0. 0. 0. 0. 0. 0. 0. 0. 0. 0. 0. 0.\n",
      " 0. 0. 0. 0. 0. 0. 0. 0. 0. 0. 0. 0. 0. 0. 0. 0. 0. 0. 0. 0. 0. 0. 0. 0.\n",
      " 0. 0. 0. 0. 0. 0. 0. 0. 0. 0.]\n"
     ]
    }
   ],
   "source": [
    "print(y[0])"
   ]
  },
  {
   "cell_type": "code",
   "execution_count": 54,
   "id": "96baa5d2-164b-4080-af05-46d4f6125a9c",
   "metadata": {},
   "outputs": [],
   "source": [
    "x_train, x_test, y_train,y_test = train_test_split(x,y,test_size=0.25)"
   ]
  },
  {
   "cell_type": "code",
   "execution_count": 78,
   "id": "10bfb3ed-f17b-44ff-80c4-694eb7821ebd",
   "metadata": {},
   "outputs": [],
   "source": [
    "early_stopping = tensorflow.keras.callbacks.EarlyStopping(\n",
    "    monitor=\"val_loss\",\n",
    "    min_delta=0,\n",
    "    patience=5,\n",
    "    verbose=1,\n",
    "    mode=\"auto\",\n",
    "    baseline=None,\n",
    "    restore_best_weights=False,\n",
    "    start_from_epoch=0,\n",
    ")"
   ]
  },
  {
   "cell_type": "code",
   "execution_count": 79,
   "id": "160905af-0378-4cfd-917f-1f9181d5a76a",
   "metadata": {},
   "outputs": [],
   "source": [
    "model = Sequential()\n",
    "model.add(Embedding(max_words+1, 100))\n",
    "model.add(SpatialDropout1D(0.2))\n",
    "model.add(LSTM(100, dropout=0.2, recurrent_dropout=0.2))\n",
    "model.add(Dense(6))\n",
    "model.add(Dense(82, activation='softmax'))"
   ]
  },
  {
   "cell_type": "code",
   "execution_count": 80,
   "id": "3dc00174-c346-41ec-ae92-61cdabaf2eb0",
   "metadata": {},
   "outputs": [],
   "source": [
    "model.compile(optimizer='adam',loss='categorical_crossentropy', metrics=['accuracy'])"
   ]
  },
  {
   "cell_type": "code",
   "execution_count": 82,
   "id": "9d472e54-0bea-46ac-a052-363fb83489a5",
   "metadata": {},
   "outputs": [
    {
     "name": "stdout",
     "output_type": "stream",
     "text": [
      "Epoch 1/50\n",
      "\u001b[1m137/137\u001b[0m \u001b[32m━━━━━━━━━━━━━━━━━━━━\u001b[0m\u001b[37m\u001b[0m \u001b[1m8s\u001b[0m 58ms/step - accuracy: 0.8777 - loss: 0.2909 - val_accuracy: 0.6552 - val_loss: 1.0575\n",
      "Epoch 2/50\n",
      "\u001b[1m137/137\u001b[0m \u001b[32m━━━━━━━━━━━━━━━━━━━━\u001b[0m\u001b[37m\u001b[0m \u001b[1m8s\u001b[0m 56ms/step - accuracy: 0.8787 - loss: 0.2714 - val_accuracy: 0.6703 - val_loss: 1.1144\n",
      "Epoch 3/50\n",
      "\u001b[1m137/137\u001b[0m \u001b[32m━━━━━━━━━━━━━━━━━━━━\u001b[0m\u001b[37m\u001b[0m \u001b[1m9s\u001b[0m 63ms/step - accuracy: 0.8955 - loss: 0.2283 - val_accuracy: 0.6676 - val_loss: 1.1908\n",
      "Epoch 4/50\n",
      "\u001b[1m137/137\u001b[0m \u001b[32m━━━━━━━━━━━━━━━━━━━━\u001b[0m\u001b[37m\u001b[0m \u001b[1m9s\u001b[0m 67ms/step - accuracy: 0.9070 - loss: 0.2094 - val_accuracy: 0.6408 - val_loss: 1.2715\n",
      "Epoch 5/50\n",
      "\u001b[1m137/137\u001b[0m \u001b[32m━━━━━━━━━━━━━━━━━━━━\u001b[0m\u001b[37m\u001b[0m \u001b[1m9s\u001b[0m 67ms/step - accuracy: 0.9006 - loss: 0.1921 - val_accuracy: 0.6347 - val_loss: 1.2769\n",
      "Epoch 6/50\n",
      "\u001b[1m137/137\u001b[0m \u001b[32m━━━━━━━━━━━━━━━━━━━━\u001b[0m\u001b[37m\u001b[0m \u001b[1m9s\u001b[0m 67ms/step - accuracy: 0.9123 - loss: 0.1883 - val_accuracy: 0.6484 - val_loss: 1.4555\n",
      "Epoch 6: early stopping\n"
     ]
    }
   ],
   "source": [
    "fit = model.fit(\n",
    "    x_train, y_train,\n",
    "    epochs=50,\n",
    "    batch_size=32,\n",
    "    validation_data=(x_test, y_test),\n",
    "    callbacks=[early_stopping]\n",
    ")"
   ]
  },
  {
   "cell_type": "code",
   "execution_count": 83,
   "id": "6314466c-be6d-4700-b1f0-d9e0f68966ad",
   "metadata": {},
   "outputs": [
    {
     "name": "stdout",
     "output_type": "stream",
     "text": [
      "\u001b[1m46/46\u001b[0m \u001b[32m━━━━━━━━━━━━━━━━━━━━\u001b[0m\u001b[37m\u001b[0m \u001b[1m1s\u001b[0m 16ms/step\n",
      "              precision    recall  f1-score   support\n",
      "\n",
      "    negative       0.21      0.17      0.19       222\n",
      "     neutral       0.69      0.79      0.74       758\n",
      "    positive       0.75      0.65      0.69       479\n",
      "\n",
      "    accuracy                           0.65      1459\n",
      "   macro avg       0.55      0.53      0.54      1459\n",
      "weighted avg       0.64      0.65      0.64      1459\n",
      "\n",
      "[[ 37 142  43]\n",
      " [ 97 599  62]\n",
      " [ 40 129 310]]\n"
     ]
    }
   ],
   "source": [
    "y_pred = model.predict(x_test)\n",
    "from sklearn.metrics import classification_report\n",
    "import numpy as np\n",
    "\n",
    "# Convert predicted probabilities to class labels\n",
    "y_pred_labels = np.argmax(y_pred, axis=1)\n",
    "\n",
    "# If y_test is one-hot encoded, convert it back to class labels\n",
    "y_test_labels = np.argmax(y_test, axis=1)\n",
    "\n",
    "# Print the classification report\n",
    "print(classification_report(y_test_labels, y_pred_labels, target_names=['negative', 'neutral', 'positive']))\n",
    "from sklearn.metrics import confusion_matrix\n",
    "print(confusion_matrix(y_test.argmax(axis=1), y_pred.argmax(axis=1)))"
   ]
  },
  {
   "cell_type": "code",
   "execution_count": null,
   "id": "ba76d788-676b-43c1-b68c-638cb279981d",
   "metadata": {},
   "outputs": [],
   "source": []
  }
 ],
 "metadata": {
  "kernelspec": {
   "display_name": "Python (tf_env)",
   "language": "python",
   "name": "tf_env"
  },
  "language_info": {
   "codemirror_mode": {
    "name": "ipython",
    "version": 3
   },
   "file_extension": ".py",
   "mimetype": "text/x-python",
   "name": "python",
   "nbconvert_exporter": "python",
   "pygments_lexer": "ipython3",
   "version": "3.10.18"
  }
 },
 "nbformat": 4,
 "nbformat_minor": 5
}
